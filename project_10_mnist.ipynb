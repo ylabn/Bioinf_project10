{
  "nbformat": 4,
  "nbformat_minor": 0,
  "metadata": {
    "colab": {
      "name": "project_10_mnist",
      "provenance": [],
      "collapsed_sections": [],
      "authorship_tag": "ABX9TyOMyRDkzW+rFWLuFX08FtHZ",
      "include_colab_link": true
    },
    "kernelspec": {
      "display_name": "Python 3",
      "name": "python3"
    },
    "language_info": {
      "name": "python"
    }
  },
  "cells": [
    {
      "cell_type": "markdown",
      "metadata": {
        "id": "view-in-github",
        "colab_type": "text"
      },
      "source": [
        "<a href=\"https://colab.research.google.com/github/ylabn/Bioinf_project10/blob/main/project_10_mnist.ipynb\" target=\"_parent\"><img src=\"https://colab.research.google.com/assets/colab-badge.svg\" alt=\"Open In Colab\"/></a>"
      ]
    },
    {
      "cell_type": "code",
      "metadata": {
        "id": "DD1IAvUWskx9"
      },
      "source": [
        "import tensorflow as tf\n",
        "from tensorflow.keras.datasets import mnist\n",
        "from tensorflow.keras.layers import Conv2D, MaxPooling2D, Dense, Flatten\n",
        "from tensorflow.keras.models import Sequential\n",
        "import matplotlib.pyplot as plt\n",
        "from sklearn.model_selection import KFold\n",
        "from keras.models import Model\n",
        "from tensorflow.keras.optimizers import SGD\n",
        "from tensorflow.keras.utils import to_categorical\n",
        "from numpy import std, mean\n",
        "from tensorflow.keras.models import load_model\n",
        "from keras.preprocessing.image import load_img\n",
        "from keras.preprocessing.image import img_to_array\n",
        "from PIL import Image\n",
        "import pandas as pd\n",
        "from google.colab import files\n",
        "from keras.preprocessing import image\n",
        "import io\n",
        "from io import BytesIO\n",
        "import requests\n",
        "import numpy as np\n",
        "from numpy import argmax\n",
        "import time\n"
      ],
      "execution_count": 11,
      "outputs": []
    },
    {
      "cell_type": "code",
      "metadata": {
        "id": "W0JNxAJ_tHca"
      },
      "source": [
        "#load the train and dataset \n",
        "def load_dataset():\n",
        "  #load dataset\n",
        "  (trainX, trainY),(testX, testY)=mnist.load_data() \n",
        "  #reshape dataset to have a single channel \n",
        "  trainX= trainX.reshape((trainX.shape[0], 28, 28, 1))\n",
        "  testX= testX.reshape((testX.shape[0], 28, 28, 1))\n",
        "  #one hot encode target values\n",
        "  trainY= to_categorical(trainY)\n",
        "  testY= to_categorical(testY)\n",
        "  return trainX, trainY, testX, testY\n"
      ],
      "execution_count": 7,
      "outputs": []
    },
    {
      "cell_type": "code",
      "metadata": {
        "id": "RM_iYwbctRCl"
      },
      "source": [
        "def prep_pixels(train, test):\n",
        "  #convert from integers to floats\n",
        "  train_norm= train.astype('float32')\n",
        "  test_norm=test.astype('float32')\n",
        "  #normalize to range 0-1\n",
        "  train_norm= train_norm/255.0\n",
        "  test_norm=test_norm/255.0\n",
        "  #return normalized images\n",
        "  return train_norm, test_norm\n",
        "  "
      ],
      "execution_count": 8,
      "outputs": []
    },
    {
      "cell_type": "markdown",
      "metadata": {
        "id": "TmTZMTmh0xds"
      },
      "source": [
        "**I task= permutation with seed=1** \n",
        "\n",
        "*   learning rate 10-3\n",
        "*   dropout NO\n",
        "*   early stopping NO\n",
        "*   n.hidden layers 400\n",
        "*   width hidden layers 400\n",
        "*   epochs/dataset 20\n",
        "\n",
        "\n",
        "\n",
        "\n"
      ]
    },
    {
      "cell_type": "code",
      "metadata": {
        "id": "mOxghJWJv-lQ"
      },
      "source": [
        "def permut(trainX, testX, seed):\n",
        "  tf.random.set_seed(seed)\n",
        "  np.random.seed(seed)\n",
        "  rng = np.random.RandomState(seed)\n",
        "  perm = rng.permutation(trainX.shape[1])\n",
        "  trainX_perm = trainX[:, perm]\n",
        "  testX_perm = testX[:, perm]\n",
        "  return trainX_perm, testX_perm"
      ],
      "execution_count": 5,
      "outputs": []
    },
    {
      "cell_type": "code",
      "metadata": {
        "id": "TGn0h1Ni07qu"
      },
      "source": [
        "#define cnn model:\n",
        "def define_model():\n",
        "  model = Sequential()\n",
        "  model.add(Conv2D(32, (3,3), activation='relu', kernel_initializer= 'he_uniform', input_shape=(28,28,1)))\n",
        "  model.add(MaxPooling2D((2,2)))\n",
        "  model.add(Flatten())\n",
        "  model.add(Dense(400, activation='relu', kernel_initializer='he_uniform'))\n",
        "  model.add(Dense(400, activation='relu', kernel_initializer='he_uniform'))\n",
        "  model.add(Dense(10, activation='softmax'))\n",
        "  #compile model \n",
        "  opt=SGD(learning_rate=0.01, momentum=0.9)\n",
        "  model.compile(optimizer=opt, loss='categorical_crossentropy', metrics=['accuracy'])\n",
        "  return model"
      ],
      "execution_count": null,
      "outputs": []
    },
    {
      "cell_type": "code",
      "metadata": {
        "id": "PJcGK87E5SEf"
      },
      "source": [
        "#evaluate a model using k-fold cross-validation\n",
        "def evaluate_model(dataX, dataY, n_folds=5):\n",
        "  scores, histories= list(), list()\n",
        "  #prepare cross validation\n",
        "  kfold=KFold(n_folds, shuffle=True, random_state=1)\n",
        "  #enumerate splits\n",
        "  for train_ix, test_ix in kfold.split(dataX):\n",
        "    #define model\n",
        "    model=define_model()\n",
        "    #select rows for train and test\n",
        "    trainX, trainY, testX, testY= dataX[train_ix], dataY[train_ix], dataX[test_ix], dataY[test_ix] \n",
        "    #fit model\n",
        "    history= model.fit(trainX, trainY, epochs=20, batch_size=32, validation_data=(testX, testY), verbose=0)\n",
        "    #evaluate model\n",
        "    _, acc= model.evaluate(testX, testY, verbose=0)\n",
        "    print('> %.3f' %(acc * 100.0))\n",
        "    #stores scores\n",
        "    scores.append(acc)\n",
        "    histories.append(history)\n",
        "  return scores, histories "
      ],
      "execution_count": null,
      "outputs": []
    },
    {
      "cell_type": "code",
      "metadata": {
        "id": "zeOofStn5aa6"
      },
      "source": [
        "def summarize_diagnostic(histories):\n",
        "  for i in range(len(histories)):\n",
        "    #plot loss\n",
        "    plt.subplot(2,1,1)\n",
        "    plt.title('Cross Entropy Loss')\n",
        "    plt.plot(histories[i].history['loss'], color='blue', label='train')\n",
        "    plt.plot(histories[i].history['val_loss'], color='orange', label='test')\n",
        "    #plot accuracy\n",
        "    plt.subplot(2,1,2)\n",
        "    plt.title('Classification Accuracy')\n",
        "    plt.plot(histories[i].history['accuracy'], color='blue', label='train')\n",
        "    plt.plot(histories[i].history['val_accuracy'], color='orange', label='test')\n",
        "  plt.show()  "
      ],
      "execution_count": null,
      "outputs": []
    },
    {
      "cell_type": "code",
      "metadata": {
        "id": "mgUojwr65exF"
      },
      "source": [
        "#summarize model performance\n",
        "def summarize_performance(scores):\n",
        "  #print summary\n",
        "  print('Accuracy: mean=%.3f std=%.3f, n=%d' % (mean(scores)*100, std(scores)*100, len(scores)))\n",
        "  #box and whisker plots of results\n",
        "  plt.boxplot(scores)\n",
        "  plt.show()"
      ],
      "execution_count": null,
      "outputs": []
    },
    {
      "cell_type": "code",
      "metadata": {
        "id": "bnu_Vs-23VTP"
      },
      "source": [
        "def run_first_task():\n",
        "  #laod dataset \n",
        "  trainX, trainY, testX, testY= load_dataset()\n",
        "  #prepare pixel data\n",
        "  trainX, testX= prep_pixels(trainX, testX)\n",
        "  trainX_I,testX_I= permut(trainX, testX, 1)\n",
        "\n",
        "  plt.figure()\n",
        "  plt.imshow(trainX[0].reshape(28,28))\n",
        "  plt.figure()\n",
        "  plt.imshow(trainX_I[0].reshape(28,28))\n",
        "\n",
        "  #load model\n",
        "  model= load_model('final_model.h5')\n",
        "  model.summary()\n",
        "  #evaluate model on test dataset\n",
        "  _, acc= model.evaluate(testX_I, testY, verbose=0)\n",
        "  print('>%.3f' % (acc*100.0))\n",
        "\n",
        "  ##define model\n",
        "  #model=define_model()\n",
        "  ##fit model \n",
        "  #model.fit(trainX, trainY, epochs=10, batch_size=32, verbose=0)\n",
        "  ##save model\n",
        "  #model.save('final_model.h5')\n",
        "  \n",
        "\n",
        "\n",
        "  ##evaluate model\n",
        "  #scores, histories= evaluate_model(trainX, trainY)\n",
        "  #histories.save('histories_task1')\n",
        "  ##learning curves\n",
        "  #summarize_diagnostic(histories)\n",
        "  ##summarize estimated performance\n",
        "  #summarize_performance(scores)\n",
        "  \n",
        "  return trainX, trainY, testX, testY\n",
        " "
      ],
      "execution_count": 6,
      "outputs": []
    },
    {
      "cell_type": "code",
      "metadata": {
        "colab": {
          "base_uri": "https://localhost:8080/",
          "height": 984
        },
        "id": "kRLX2fvL6Qt1",
        "outputId": "4f36d5f6-8c65-43ec-edd1-8e6fa50f8210"
      },
      "source": [
        "trainX, trainY, testX, testY=run_first_task()"
      ],
      "execution_count": null,
      "outputs": [
        {
          "name": "stdout",
          "output_type": "stream",
          "text": [
            "Downloading data from https://storage.googleapis.com/tensorflow/tf-keras-datasets/mnist.npz\n",
            "11493376/11490434 [==============================] - 0s 0us/step\n",
            "11501568/11490434 [==============================] - 0s 0us/step\n",
            "Model: \"sequential\"\n",
            "_________________________________________________________________\n",
            " Layer (type)                Output Shape              Param #   \n",
            "=================================================================\n",
            " conv2d (Conv2D)             (None, 26, 26, 32)        320       \n",
            "                                                                 \n",
            " max_pooling2d (MaxPooling2D  (None, 13, 13, 32)       0         \n",
            " )                                                               \n",
            "                                                                 \n",
            " flatten (Flatten)           (None, 5408)              0         \n",
            "                                                                 \n",
            " dense (Dense)               (None, 400)               2163600   \n",
            "                                                                 \n",
            " dense_1 (Dense)             (None, 400)               160400    \n",
            "                                                                 \n",
            " dense_2 (Dense)             (None, 10)                4010      \n",
            "                                                                 \n",
            "=================================================================\n",
            "Total params: 2,328,330\n",
            "Trainable params: 2,328,330\n",
            "Non-trainable params: 0\n",
            "_________________________________________________________________\n",
            ">98.400\n"
          ]
        },
        {
          "data": {
            "image/png": "[encoded data removed]",
            "text/plain": [
              "<Figure size 432x288 with 1 Axes>"
            ]
          },
          "metadata": {},
          "output_type": "display_data"
        },
        {
          "data": {
            "image/png": "[encoded data removed]",
            "text/plain": [
              "<Figure size 432x288 with 1 Axes>"
            ]
          },
          "metadata": {},
          "output_type": "display_data"
        }
      ]
    },
    {
      "cell_type": "markdown",
      "metadata": {
        "id": "sQzr3gxKSCCy"
      },
      "source": [
        " **transfer learning --> train the network on II task**"
      ]
    },
    {
      "cell_type": "code",
      "metadata": {
        "id": "Jw28i--lBr4d"
      },
      "source": [
        "#creating the new dataset\n",
        "trainX_II, testX_II= permut(trainX, testX, 2)\n",
        "trainX_I, testX_I= permut(trainX, testX, 1)"
      ],
      "execution_count": null,
      "outputs": []
    },
    {
      "cell_type": "code",
      "metadata": {
        "colab": {
          "base_uri": "https://localhost:8080/",
          "height": 282
        },
        "id": "pAR_eOx6GNoK",
        "outputId": "031f31fd-a3f2-49fd-c566-20ff07e9f48a"
      },
      "source": [
        "plt.imshow(trainX_II[0].reshape(28,28))"
      ],
      "execution_count": null,
      "outputs": [
        {
          "data": {
            "text/plain": [
              "<matplotlib.image.AxesImage at 0x7fd01592c5d0>"
            ]
          },
          "execution_count": 11,
          "metadata": {},
          "output_type": "execute_result"
        },
        {
          "data": {
            "image/png": "[encoded data removed]",
            "text/plain": [
              "<Figure size 432x288 with 1 Axes>"
            ]
          },
          "metadata": {},
          "output_type": "display_data"
        }
      ]
    },
    {
      "cell_type": "code",
      "metadata": {
        "colab": {
          "base_uri": "https://localhost:8080/",
          "height": 740
        },
        "id": "T5QAMi1ItCwJ",
        "outputId": "bf736ad9-6da9-49a5-8840-6adade52ae5f"
      },
      "source": [
        "#load model previously trained \n",
        "model=load_model('final_model.h5')\n",
        "\n",
        "#compile model \n",
        "#opt=SGD(learning_rate=0.01, momentum=0.9)\n",
        "#model.compile(optimizer=opt, loss='categorical_crossentropy', metrics=['accuracy'])\n",
        "#fit model \n",
        "model.fit(trainX_II, trainY, epochs=10, batch_size=32, verbose=0)\n",
        "\n",
        "#evaluate model\n",
        "scores, histories= evaluate_model(trainX_II, trainY)\n",
        "#learning curves\n",
        "summarize_diagnostic(histories)\n",
        "#summarize estimated performance\n",
        "summarize_performance(scores)\n",
        "\n",
        "#save model\n",
        "model.save('final_model.task2')\n",
        "\n",
        "\n"
      ],
      "execution_count": null,
      "outputs": [
        {
          "name": "stdout",
          "output_type": "stream",
          "text": [
            "> 98.317\n",
            "> 98.317\n",
            "> 98.475\n",
            "> 98.625\n",
            "> 98.433\n"
          ]
        },
        {
          "name": "stderr",
          "output_type": "stream",
          "text": [
            "/usr/local/lib/python3.7/dist-packages/ipykernel_launcher.py:4: MatplotlibDeprecationWarning: Adding an axes using the same arguments as a previous axes currently reuses the earlier instance.  In a future version, a new instance will always be created and returned.  Meanwhile, this warning can be suppressed, and the future behavior ensured, by passing a unique label to each axes instance.\n",
            "  after removing the cwd from sys.path.\n",
            "/usr/local/lib/python3.7/dist-packages/ipykernel_launcher.py:9: MatplotlibDeprecationWarning: Adding an axes using the same arguments as a previous axes currently reuses the earlier instance.  In a future version, a new instance will always be created and returned.  Meanwhile, this warning can be suppressed, and the future behavior ensured, by passing a unique label to each axes instance.\n",
            "  if __name__ == '__main__':\n"
          ]
        },
        {
          "data": {
            "image/png": "[encoded data removed]",
            "text/plain": [
              "<Figure size 432x288 with 2 Axes>"
            ]
          },
          "metadata": {},
          "output_type": "display_data"
        },
        {
          "name": "stdout",
          "output_type": "stream",
          "text": [
            "Accuracy: mean=98.433 std=0.115, n=5\n"
          ]
        },
        {
          "data": {
            "image/png": "[encoded data removed]",
            "text/plain": [
              "<Figure size 432x288 with 1 Axes>"
            ]
          },
          "metadata": {},
          "output_type": "display_data"
        },
        {
          "name": "stdout",
          "output_type": "stream",
          "text": [
            "INFO:tensorflow:Assets written to: final_model.task2/assets\n"
          ]
        }
      ]
    },
    {
      "cell_type": "code",
      "metadata": {
        "colab": {
          "base_uri": "https://localhost:8080/",
          "height": 397
        },
        "id": "4sI7ZnaGwyI4",
        "outputId": "5a1316b6-7859-4cb8-90c9-4ee763bf83b2"
      },
      "source": [
        "#evaluate model on test\n",
        "model=load_model('final_model.task2')\n",
        "_, acc= model.evaluate(testX_II, testY, verbose=0)\n",
        "print('>%.3f' % (acc*100.0))\n",
        "time.sleep(2)\n",
        "_, acc= model.evaluate(testX_I, testY, verbose=0)\n",
        "print('>%.3f' % (acc*100.0))"
      ],
      "execution_count": null,
      "outputs": [
        {
          "ename": "OSError",
          "evalue": "ignored",
          "output_type": "error",
          "traceback": [
            "\u001b[0;31m---------------------------------------------------------------------------\u001b[0m",
            "\u001b[0;31mOSError\u001b[0m                                   Traceback (most recent call last)",
            "\u001b[0;32m<ipython-input-14-e1ac88497627>\u001b[0m in \u001b[0;36m<module>\u001b[0;34m()\u001b[0m\n\u001b[1;32m      1\u001b[0m \u001b[0;31m#evaluate model on test\u001b[0m\u001b[0;34m\u001b[0m\u001b[0;34m\u001b[0m\u001b[0;34m\u001b[0m\u001b[0m\n\u001b[0;32m----> 2\u001b[0;31m \u001b[0mmodel\u001b[0m\u001b[0;34m=\u001b[0m\u001b[0mload_model\u001b[0m\u001b[0;34m(\u001b[0m\u001b[0;34m'final_model.task2'\u001b[0m\u001b[0;34m)\u001b[0m\u001b[0;34m\u001b[0m\u001b[0;34m\u001b[0m\u001b[0m\n\u001b[0m\u001b[1;32m      3\u001b[0m \u001b[0m_\u001b[0m\u001b[0;34m,\u001b[0m \u001b[0macc\u001b[0m\u001b[0;34m=\u001b[0m \u001b[0mmodel\u001b[0m\u001b[0;34m.\u001b[0m\u001b[0mevaluate\u001b[0m\u001b[0;34m(\u001b[0m\u001b[0mtestX_II\u001b[0m\u001b[0;34m,\u001b[0m \u001b[0mtestY\u001b[0m\u001b[0;34m,\u001b[0m \u001b[0mverbose\u001b[0m\u001b[0;34m=\u001b[0m\u001b[0;36m0\u001b[0m\u001b[0;34m)\u001b[0m\u001b[0;34m\u001b[0m\u001b[0;34m\u001b[0m\u001b[0m\n\u001b[1;32m      4\u001b[0m \u001b[0mprint\u001b[0m\u001b[0;34m(\u001b[0m\u001b[0;34m'>%.3f'\u001b[0m \u001b[0;34m%\u001b[0m \u001b[0;34m(\u001b[0m\u001b[0macc\u001b[0m\u001b[0;34m*\u001b[0m\u001b[0;36m100.0\u001b[0m\u001b[0;34m)\u001b[0m\u001b[0;34m)\u001b[0m\u001b[0;34m\u001b[0m\u001b[0;34m\u001b[0m\u001b[0m\n\u001b[1;32m      5\u001b[0m \u001b[0mtime\u001b[0m\u001b[0;34m.\u001b[0m\u001b[0msleep\u001b[0m\u001b[0;34m(\u001b[0m\u001b[0;36m2\u001b[0m\u001b[0;34m)\u001b[0m\u001b[0;34m\u001b[0m\u001b[0;34m\u001b[0m\u001b[0m\n",
            "\u001b[0;32m/usr/local/lib/python3.7/dist-packages/keras/utils/traceback_utils.py\u001b[0m in \u001b[0;36merror_handler\u001b[0;34m(*args, **kwargs)\u001b[0m\n\u001b[1;32m     65\u001b[0m     \u001b[0;32mexcept\u001b[0m \u001b[0mException\u001b[0m \u001b[0;32mas\u001b[0m \u001b[0me\u001b[0m\u001b[0;34m:\u001b[0m  \u001b[0;31m# pylint: disable=broad-except\u001b[0m\u001b[0;34m\u001b[0m\u001b[0;34m\u001b[0m\u001b[0m\n\u001b[1;32m     66\u001b[0m       \u001b[0mfiltered_tb\u001b[0m \u001b[0;34m=\u001b[0m \u001b[0m_process_traceback_frames\u001b[0m\u001b[0;34m(\u001b[0m\u001b[0me\u001b[0m\u001b[0;34m.\u001b[0m\u001b[0m__traceback__\u001b[0m\u001b[0;34m)\u001b[0m\u001b[0;34m\u001b[0m\u001b[0;34m\u001b[0m\u001b[0m\n\u001b[0;32m---> 67\u001b[0;31m       \u001b[0;32mraise\u001b[0m \u001b[0me\u001b[0m\u001b[0;34m.\u001b[0m\u001b[0mwith_traceback\u001b[0m\u001b[0;34m(\u001b[0m\u001b[0mfiltered_tb\u001b[0m\u001b[0;34m)\u001b[0m \u001b[0;32mfrom\u001b[0m \u001b[0;32mNone\u001b[0m\u001b[0;34m\u001b[0m\u001b[0;34m\u001b[0m\u001b[0m\n\u001b[0m\u001b[1;32m     68\u001b[0m     \u001b[0;32mfinally\u001b[0m\u001b[0;34m:\u001b[0m\u001b[0;34m\u001b[0m\u001b[0;34m\u001b[0m\u001b[0m\n\u001b[1;32m     69\u001b[0m       \u001b[0;32mdel\u001b[0m \u001b[0mfiltered_tb\u001b[0m\u001b[0;34m\u001b[0m\u001b[0;34m\u001b[0m\u001b[0m\n",
            "\u001b[0;32m/usr/local/lib/python3.7/dist-packages/keras/saving/save.py\u001b[0m in \u001b[0;36mload_model\u001b[0;34m(filepath, custom_objects, compile, options)\u001b[0m\n\u001b[1;32m    207\u001b[0m         \u001b[0;32mif\u001b[0m \u001b[0misinstance\u001b[0m\u001b[0;34m(\u001b[0m\u001b[0mfilepath\u001b[0m\u001b[0;34m,\u001b[0m \u001b[0mstr\u001b[0m\u001b[0;34m)\u001b[0m\u001b[0;34m:\u001b[0m\u001b[0;34m\u001b[0m\u001b[0;34m\u001b[0m\u001b[0m\n\u001b[1;32m    208\u001b[0m           \u001b[0;32mif\u001b[0m \u001b[0;32mnot\u001b[0m \u001b[0mtf\u001b[0m\u001b[0;34m.\u001b[0m\u001b[0mio\u001b[0m\u001b[0;34m.\u001b[0m\u001b[0mgfile\u001b[0m\u001b[0;34m.\u001b[0m\u001b[0mexists\u001b[0m\u001b[0;34m(\u001b[0m\u001b[0mfilepath\u001b[0m\u001b[0;34m)\u001b[0m\u001b[0;34m:\u001b[0m\u001b[0;34m\u001b[0m\u001b[0;34m\u001b[0m\u001b[0m\n\u001b[0;32m--> 209\u001b[0;31m             \u001b[0;32mraise\u001b[0m \u001b[0mIOError\u001b[0m\u001b[0;34m(\u001b[0m\u001b[0;34mf'No file or directory found at {filepath}'\u001b[0m\u001b[0;34m)\u001b[0m\u001b[0;34m\u001b[0m\u001b[0;34m\u001b[0m\u001b[0m\n\u001b[0m\u001b[1;32m    210\u001b[0m           \u001b[0;32mif\u001b[0m \u001b[0msaving_utils\u001b[0m\u001b[0;34m.\u001b[0m\u001b[0mis_hdf5_filepath\u001b[0m\u001b[0;34m(\u001b[0m\u001b[0mfilepath\u001b[0m\u001b[0;34m)\u001b[0m \u001b[0;32mand\u001b[0m \u001b[0mh5py\u001b[0m \u001b[0;32mis\u001b[0m \u001b[0;32mNone\u001b[0m\u001b[0;34m:\u001b[0m\u001b[0;34m\u001b[0m\u001b[0;34m\u001b[0m\u001b[0m\n\u001b[1;32m    211\u001b[0m             raise ImportError(\n",
            "\u001b[0;31mOSError\u001b[0m: No file or directory found at final_model.task2"
          ]
        }
      ]
    },
    {
      "cell_type": "markdown",
      "metadata": {
        "id": "L6OYjBH6LsYk"
      },
      "source": [
        " **Training on third task**"
      ]
    },
    {
      "cell_type": "code",
      "metadata": {
        "id": "SC_OG2qiL45G"
      },
      "source": [
        "#creating new dataset \n",
        "trainX_III, testX_III= permut(trainX, testX, 3)"
      ],
      "execution_count": null,
      "outputs": []
    },
    {
      "cell_type": "code",
      "metadata": {
        "colab": {
          "base_uri": "https://localhost:8080/",
          "height": 397
        },
        "id": "gFKelMpCMBxm",
        "outputId": "f50bf762-48cc-4c35-db1a-2397897fc3ad"
      },
      "source": [
        "#load model previously trained \n",
        "model=load_model('final_model.task2')\n",
        "\n",
        "#compile model \n",
        "#opt=SGD(learning_rate=0.01, momentum=0.9)\n",
        "#model.compile(optimizer=opt, loss='categorical_crossentropy', metrics=['accuracy'])\n",
        "#fit model \n",
        "model.fit(trainX_III, trainY, epochs=10, batch_size=32, verbose=0)\n",
        "\n",
        "#evaluate model\n",
        "scores, histories= evaluate_model(trainX_III, trainY)\n",
        "#learning curves\n",
        "summarize_diagnostic(histories)\n",
        "#summarize estimated performance\n",
        "summarize_performance(scores)\n",
        "\n",
        "#save model\n",
        "model.save('final_model.task3')"
      ],
      "execution_count": null,
      "outputs": [
        {
          "ename": "OSError",
          "evalue": "ignored",
          "output_type": "error",
          "traceback": [
            "\u001b[0;31m---------------------------------------------------------------------------\u001b[0m",
            "\u001b[0;31mOSError\u001b[0m                                   Traceback (most recent call last)",
            "\u001b[0;32m<ipython-input-13-0189e1f3d7c7>\u001b[0m in \u001b[0;36m<module>\u001b[0;34m()\u001b[0m\n\u001b[1;32m      1\u001b[0m \u001b[0;31m#load model previously trained\u001b[0m\u001b[0;34m\u001b[0m\u001b[0;34m\u001b[0m\u001b[0;34m\u001b[0m\u001b[0m\n\u001b[0;32m----> 2\u001b[0;31m \u001b[0mmodel\u001b[0m\u001b[0;34m=\u001b[0m\u001b[0mload_model\u001b[0m\u001b[0;34m(\u001b[0m\u001b[0;34m'final_model.task2'\u001b[0m\u001b[0;34m)\u001b[0m\u001b[0;34m\u001b[0m\u001b[0;34m\u001b[0m\u001b[0m\n\u001b[0m\u001b[1;32m      3\u001b[0m \u001b[0;34m\u001b[0m\u001b[0m\n\u001b[1;32m      4\u001b[0m \u001b[0;31m#compile model\u001b[0m\u001b[0;34m\u001b[0m\u001b[0;34m\u001b[0m\u001b[0;34m\u001b[0m\u001b[0m\n\u001b[1;32m      5\u001b[0m \u001b[0;31m#opt=SGD(learning_rate=0.01, momentum=0.9)\u001b[0m\u001b[0;34m\u001b[0m\u001b[0;34m\u001b[0m\u001b[0;34m\u001b[0m\u001b[0m\n",
            "\u001b[0;32m/usr/local/lib/python3.7/dist-packages/keras/utils/traceback_utils.py\u001b[0m in \u001b[0;36merror_handler\u001b[0;34m(*args, **kwargs)\u001b[0m\n\u001b[1;32m     65\u001b[0m     \u001b[0;32mexcept\u001b[0m \u001b[0mException\u001b[0m \u001b[0;32mas\u001b[0m \u001b[0me\u001b[0m\u001b[0;34m:\u001b[0m  \u001b[0;31m# pylint: disable=broad-except\u001b[0m\u001b[0;34m\u001b[0m\u001b[0;34m\u001b[0m\u001b[0m\n\u001b[1;32m     66\u001b[0m       \u001b[0mfiltered_tb\u001b[0m \u001b[0;34m=\u001b[0m \u001b[0m_process_traceback_frames\u001b[0m\u001b[0;34m(\u001b[0m\u001b[0me\u001b[0m\u001b[0;34m.\u001b[0m\u001b[0m__traceback__\u001b[0m\u001b[0;34m)\u001b[0m\u001b[0;34m\u001b[0m\u001b[0;34m\u001b[0m\u001b[0m\n\u001b[0;32m---> 67\u001b[0;31m       \u001b[0;32mraise\u001b[0m \u001b[0me\u001b[0m\u001b[0;34m.\u001b[0m\u001b[0mwith_traceback\u001b[0m\u001b[0;34m(\u001b[0m\u001b[0mfiltered_tb\u001b[0m\u001b[0;34m)\u001b[0m \u001b[0;32mfrom\u001b[0m \u001b[0;32mNone\u001b[0m\u001b[0;34m\u001b[0m\u001b[0;34m\u001b[0m\u001b[0m\n\u001b[0m\u001b[1;32m     68\u001b[0m     \u001b[0;32mfinally\u001b[0m\u001b[0;34m:\u001b[0m\u001b[0;34m\u001b[0m\u001b[0;34m\u001b[0m\u001b[0m\n\u001b[1;32m     69\u001b[0m       \u001b[0;32mdel\u001b[0m \u001b[0mfiltered_tb\u001b[0m\u001b[0;34m\u001b[0m\u001b[0;34m\u001b[0m\u001b[0m\n",
            "\u001b[0;32m/usr/local/lib/python3.7/dist-packages/keras/saving/save.py\u001b[0m in \u001b[0;36mload_model\u001b[0;34m(filepath, custom_objects, compile, options)\u001b[0m\n\u001b[1;32m    207\u001b[0m         \u001b[0;32mif\u001b[0m \u001b[0misinstance\u001b[0m\u001b[0;34m(\u001b[0m\u001b[0mfilepath\u001b[0m\u001b[0;34m,\u001b[0m \u001b[0mstr\u001b[0m\u001b[0;34m)\u001b[0m\u001b[0;34m:\u001b[0m\u001b[0;34m\u001b[0m\u001b[0;34m\u001b[0m\u001b[0m\n\u001b[1;32m    208\u001b[0m           \u001b[0;32mif\u001b[0m \u001b[0;32mnot\u001b[0m \u001b[0mtf\u001b[0m\u001b[0;34m.\u001b[0m\u001b[0mio\u001b[0m\u001b[0;34m.\u001b[0m\u001b[0mgfile\u001b[0m\u001b[0;34m.\u001b[0m\u001b[0mexists\u001b[0m\u001b[0;34m(\u001b[0m\u001b[0mfilepath\u001b[0m\u001b[0;34m)\u001b[0m\u001b[0;34m:\u001b[0m\u001b[0;34m\u001b[0m\u001b[0;34m\u001b[0m\u001b[0m\n\u001b[0;32m--> 209\u001b[0;31m             \u001b[0;32mraise\u001b[0m \u001b[0mIOError\u001b[0m\u001b[0;34m(\u001b[0m\u001b[0;34mf'No file or directory found at {filepath}'\u001b[0m\u001b[0;34m)\u001b[0m\u001b[0;34m\u001b[0m\u001b[0;34m\u001b[0m\u001b[0m\n\u001b[0m\u001b[1;32m    210\u001b[0m           \u001b[0;32mif\u001b[0m \u001b[0msaving_utils\u001b[0m\u001b[0;34m.\u001b[0m\u001b[0mis_hdf5_filepath\u001b[0m\u001b[0;34m(\u001b[0m\u001b[0mfilepath\u001b[0m\u001b[0;34m)\u001b[0m \u001b[0;32mand\u001b[0m \u001b[0mh5py\u001b[0m \u001b[0;32mis\u001b[0m \u001b[0;32mNone\u001b[0m\u001b[0;34m:\u001b[0m\u001b[0;34m\u001b[0m\u001b[0;34m\u001b[0m\u001b[0m\n\u001b[1;32m    211\u001b[0m             raise ImportError(\n",
            "\u001b[0;31mOSError\u001b[0m: No file or directory found at final_model.task2"
          ]
        }
      ]
    },
    {
      "cell_type": "code",
      "metadata": {
        "colab": {
          "base_uri": "https://localhost:8080/"
        },
        "id": "OW5b5apwMKiA",
        "outputId": "1d497367-3257-45d3-cbbf-b07252899a95"
      },
      "source": [
        "#evaluate model on test\n",
        "model=load_model('final_model.task3')\n",
        "_, acc= model.evaluate(testX_I, testY, verbose=0)\n",
        "print('>%.3f' % (acc*100.0))\n",
        "time.sleep(2)\n",
        "_, acc= model.evaluate(testX_II, testY, verbose=0)\n",
        "print('>%.3f' % (acc*100.0))\n",
        "time.sleep(2)\n",
        "_, acc= model.evaluate(testX_III, testY, verbose=0)\n",
        "print('>%.3f' % (acc*100.0))"
      ],
      "execution_count": null,
      "outputs": [
        {
          "name": "stdout",
          "output_type": "stream",
          "text": [
            ">51.640\n",
            ">84.620\n",
            ">98.620\n"
          ]
        }
      ]
    },
    {
      "cell_type": "markdown",
      "metadata": {
        "id": "GpVTeCDjGfU1"
      },
      "source": [
        "**Reference figure tab1 3C**\n",
        "I task= permutation with seed=1\n",
        "\n",
        "*   learning rate 10-3\n",
        "*   dropout NO\n",
        "*   early stopping NO\n",
        "*   n.hidden layers 6\n",
        "*   width hidden layers 100\n",
        "*   epochs/dataset 100\n",
        "\n"
      ]
    },
    {
      "cell_type": "code",
      "metadata": {
        "id": "q8YndCDUJy-4"
      },
      "source": [
        "#define cnn model:\n",
        "def define_model_3C():\n",
        "  model = Sequential()\n",
        "  model.add(Conv2D(32, (3,3), activation='relu', kernel_initializer= 'he_uniform', input_shape=(28,28,1)))\n",
        "  model.add(MaxPooling2D((2,2)))\n",
        "  model.add(Flatten())\n",
        "  model.add(Dense(100, activation='relu', kernel_initializer='he_uniform'))\n",
        "  model.add(Dense(100, activation='relu', kernel_initializer='he_uniform'))\n",
        "  model.add(Dense(100, activation='relu', kernel_initializer='he_uniform'))\n",
        "  model.add(Dense(100, activation='relu', kernel_initializer='he_uniform'))\n",
        "  model.add(Dense(100, activation='relu', kernel_initializer='he_uniform'))\n",
        "  model.add(Dense(100, activation='relu', kernel_initializer='he_uniform'))\n",
        "  model.add(Dense(10, activation='softmax'))\n",
        "  #compile model \n",
        "  opt=SGD(learning_rate=0.01, momentum=0.9)\n",
        "  model.compile(optimizer=opt, loss='categorical_crossentropy', metrics=['accuracy'])\n",
        "  return model"
      ],
      "execution_count": 3,
      "outputs": []
    },
    {
      "cell_type": "code",
      "metadata": {
        "id": "X8qDcoQNfeTO"
      },
      "source": [
        "#evaluate a model using k-fold cross-validation\n",
        "def evaluate_model_3C(dataX, dataY, n_folds=5):\n",
        "  scores, histories= list(), list()\n",
        "  #prepare cross validation\n",
        "  kfold=KFold(n_folds, shuffle=True, random_state=1)\n",
        "  #enumerate splits\n",
        "  for train_ix, test_ix in kfold.split(dataX):\n",
        "    #define model\n",
        "    model=define_model_3C()\n",
        "    #select rows for train and test\n",
        "    trainX, trainY, testX, testY= dataX[train_ix], dataY[train_ix], dataX[test_ix], dataY[test_ix] \n",
        "    #fit model\n",
        "    history= model.fit(trainX, trainY, epochs=10, batch_size=32, validation_data=(testX, testY), verbose=0)\n",
        "    #evaluate model\n",
        "    _, acc= model.evaluate(testX, testY, verbose=0)\n",
        "    print('> %.3f' %(acc * 100.0))\n",
        "    #stores scores\n",
        "    scores.append(acc)\n",
        "    histories.append(history)\n",
        "  return scores, histories "
      ],
      "execution_count": 4,
      "outputs": []
    },
    {
      "cell_type": "code",
      "source": [
        "print(scores)"
      ],
      "metadata": {
        "colab": {
          "base_uri": "https://localhost:8080/"
        },
        "id": "Zpx00dTCPl0-",
        "outputId": "34095736-a00c-4844-f68c-4855616f35fb"
      },
      "execution_count": null,
      "outputs": [
        {
          "output_type": "stream",
          "name": "stdout",
          "text": [
            "[0.987583339214325, 0.9878333210945129, 0.987666666507721, 0.9885833263397217, 0.9881666898727417]\n"
          ]
        }
      ]
    },
    {
      "cell_type": "code",
      "source": [
        "def run_first_task_3C():\n",
        "  #laod dataset \n",
        "  trainX, trainY, testX, testY= load_dataset()\n",
        "  #prepare pixel data\n",
        "  trainX, testX= prep_pixels(trainX, testX)\n",
        "  trainX_I,testX_I= permut(trainX, testX, 2)\n",
        "\n",
        "  plt.figure()\n",
        "  plt.imshow(trainX[0].reshape(28,28))\n",
        "  plt.figure()\n",
        "  plt.imshow(trainX_I[0].reshape(28,28))\n",
        "\n",
        "  #load model\n",
        "  #model= load_model('final_model.h5')\n",
        "  #model.summary()\n",
        "  #evaluate model on test dataset\n",
        "  #_, acc= model.evaluate(testX_I, testY, verbose=0)\n",
        "  #print('>%.3f' % (acc*100.0))\n",
        "\n",
        "  #define model\n",
        "  model=define_model_3C()\n",
        "  ##fit model \n",
        "  model.fit(trainX, trainY, epochs=100, batch_size=32, verbose=0)\n",
        "  #save model\n",
        "  model.save('final_model.3C')\n",
        "  \n",
        "\n",
        "\n",
        "  ##evaluate model\n",
        "  scores, histories= evaluate_model_3C(trainX, trainY)\n",
        "  \n",
        "\n",
        "  ##learning curves\n",
        "  summarize_diagnostic(histories)\n",
        "  ##summarize estimated performance\n",
        "  summarize_performance(scores)\n",
        "\n",
        "  with open('scores_task1.txt','w') as f:\n",
        "     f.write((str(scores)))\n",
        "\n",
        "  with open('histories_task1.txt','w') as f:\n",
        "     f.write((str(histories))) \n",
        "  \n",
        "  return trainX, trainY, testX, testY, scores, histories"
      ],
      "metadata": {
        "id": "WJVoUrGvP17g"
      },
      "execution_count": 9,
      "outputs": []
    },
    {
      "cell_type": "code",
      "metadata": {
        "colab": {
          "base_uri": "https://localhost:8080/"
        },
        "id": "lQe4ygfNKX-j",
        "outputId": "51662055-9586-4798-87d9-efca1f03a237"
      },
      "source": [
        "trainX, trainY, testX, testY, scores, histories=run_first_task_3C()"
      ],
      "execution_count": null,
      "outputs": [
        {
          "output_type": "stream",
          "name": "stdout",
          "text": [
            "Downloading data from https://storage.googleapis.com/tensorflow/tf-keras-datasets/mnist.npz\n",
            "11493376/11490434 [==============================] - 0s 0us/step\n",
            "11501568/11490434 [==============================] - 0s 0us/step\n"
          ]
        }
      ]
    },
    {
      "cell_type": "code",
      "source": [
        ""
      ],
      "metadata": {
        "id": "vBWF4MEiRzir"
      },
      "execution_count": null,
      "outputs": []
    }
  ]
}