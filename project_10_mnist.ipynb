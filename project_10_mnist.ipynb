{
  "nbformat": 4,
  "nbformat_minor": 0,
  "metadata": {
    "colab": {
      "name": "project_10_mnist.ipynb",
      "provenance": [],
      "collapsed_sections": [],
      "authorship_tag": "ABX9TyN9/q4DhqJBmLZzPpw2/Gt6",
      "include_colab_link": true
    },
    "kernelspec": {
      "name": "python3",
      "display_name": "Python 3"
    },
    "language_info": {
      "name": "python"
    }
  },
  "cells": [
    {
      "cell_type": "markdown",
      "metadata": {
        "id": "view-in-github",
        "colab_type": "text"
      },
      "source": [
        "<a href=\"https://colab.research.google.com/gist/ylabn/2761b32db702e074475884f7c396966b/project_10_mnist.ipynb\" target=\"_parent\"><img src=\"https://colab.research.google.com/assets/colab-badge.svg\" alt=\"Open In Colab\"/></a>"
      ]
    },
    {
      "cell_type": "code",
      "metadata": {
        "id": "zEFftnt4IAPI"
      },
      "source": [
        "import tensorflow as tf\n",
        "from tensorflow.keras.datasets import mnist\n",
        "from tensorflow.keras.layers import Conv2D, MaxPooling2D, Dense, Flatten\n",
        "from tensorflow.keras.models import Sequential\n",
        "import matplotlib.pyplot as plt\n",
        "from sklearn.model_selection import KFold\n",
        "from tensorflow.keras.optimizers import SGD\n",
        "from tensorflow.keras.utils import to_categorical\n",
        "from numpy import std, mean"
      ],
      "execution_count": 52,
      "outputs": []
    },
    {
      "cell_type": "code",
      "metadata": {
        "id": "jcg9EPES90iC"
      },
      "source": [
        "#load train and test datset\n",
        "def load_dataset():\n",
        "  #load dataset\n",
        "  (trainX, trainY),(testX, testY)=mnist.load_data() \n",
        "  #reshape dataset to have a single channel \n",
        "  trainX= trainX.reshape((trainX.shape[0], 28, 28, 1))\n",
        "  testX= testX.reshape((testX.shape[0], 28, 28, 1))\n",
        "  #one hot encode target values\n",
        "  trainY= to_categorical(trainY)\n",
        "  testY= to_categorical(testY)\n",
        "  return trainX, trainY, testX, testY\n",
        "\n"
      ],
      "execution_count": 40,
      "outputs": []
    },
    {
      "cell_type": "code",
      "metadata": {
        "id": "af3UBVCICrgn"
      },
      "source": [
        "#scale pixel\n",
        "def prep_pixels(train, test):\n",
        "  #convert from integers to floats\n",
        "  train_norm= train.astype('float32')\n",
        "  test_norm=test.astype('float32')\n",
        "  #normalize to range 0-1\n",
        "  train_norm= train_norm/255.0\n",
        "  test_norm=test_norm/255.0\n",
        "  #return normalized images\n",
        "  return train_norm, test_norm"
      ],
      "execution_count": 41,
      "outputs": []
    },
    {
      "cell_type": "code",
      "metadata": {
        "id": "oVGubBxAC6TH"
      },
      "source": [
        "#define cnn model:\n",
        "def define_model():\n",
        "  model = Sequential()\n",
        "  model.add(Conv2D(32, (3,3), activation='relu', kernel_initializer= 'he_uniform', input_shape=(28,28,1)))\n",
        "  model.add(MaxPooling2D((2,2)))\n",
        "  model.add(Flatten())\n",
        "  model.add(Dense(100, activation='relu', kernel_initializer='he_uniform'))\n",
        "  model.add(Dense(10, activation='softmax'))\n",
        "  #compile model \n",
        "  opt=SGD(learning_rate=0.01, momentum=0.9)\n",
        "  model.compile(optimizer=opt, loss='categorical_crossentropy', metrics=['accuracy'])\n",
        "  return model"
      ],
      "execution_count": 42,
      "outputs": []
    },
    {
      "cell_type": "code",
      "metadata": {
        "id": "Ysse4ZtXEXGU"
      },
      "source": [
        "#evaluate a model using k-fold cross-validation\n",
        "def evaluate_model(dataX, dataY, n_folds=5):\n",
        "  scores, histories= list(), list()\n",
        "  #prepare cross validation\n",
        "  kfold=KFold(n_folds, shuffle=True, random_state=1)\n",
        "  #enumerate splits\n",
        "  for train_ix, test_ix in kfold.split(dataX):\n",
        "    #define model\n",
        "    model=define_model()\n",
        "    #select rows for train and test\n",
        "    trainX, trainY, testX, testY= dataX[train_ix], dataY[train_ix], dataX[test_ix], dataY[test_ix] \n",
        "    #fit model\n",
        "    history= model.fit(trainX, trainY, epochs=10, batch_size=32, validation_data=(testX, testY), verbose=0)\n",
        "    #evaluate model\n",
        "    _, acc= model.evaluate(testX, testY, verbose=0)\n",
        "    print('> %.3f' %(acc * 100.0))\n",
        "    #stores scores\n",
        "    scores.append(acc)\n",
        "    histories.append(history)\n",
        "  return scores, histories "
      ],
      "execution_count": 43,
      "outputs": []
    },
    {
      "cell_type": "code",
      "metadata": {
        "id": "2ly_BXd7GHwN"
      },
      "source": [
        "#plot diagnostic learning curves \n",
        "def summarize_diagnostic(histories):\n",
        "  for i in range(len(histories)):\n",
        "    #plot loss\n",
        "    plt.subplot(2,1,1)\n",
        "    plt.title('Cross Entropy Loss')\n",
        "    plt.plot(histories[i].history['loss'], color='blue', label='train')\n",
        "    plt.plot(histories[i].history['val_loss'], color='orange', label='test')\n",
        "    #plot accuracy\n",
        "    plt.subplot(2,1,2)\n",
        "    plt.title('Classification Accuracy')\n",
        "    plt.plot(histories[i].history['accuracy'], color='blue', label='train')\n",
        "    plt.plot(histories[i].history['val_accuracy'], color='orange', label='test')\n",
        "  plt.show()  "
      ],
      "execution_count": 44,
      "outputs": []
    },
    {
      "cell_type": "code",
      "metadata": {
        "id": "WwDEp1qkH4KY"
      },
      "source": [
        "#summarize model performance\n",
        "def summarize_performance(scores):\n",
        "  #print summary\n",
        "  print('Accuracy: mean=%.3f std=%.3f, n=%d' % (mean(scores)*100, std(scores)*100, len(scores)))\n",
        "  #box and whisker plots of results\n",
        "  plt.boxplot(scores)\n",
        "  plt.show()\n",
        "  "
      ],
      "execution_count": 45,
      "outputs": []
    },
    {
      "cell_type": "code",
      "metadata": {
        "id": "tL7cxqnwIrXH"
      },
      "source": [
        "#run the test harness for evaluating a model\n",
        "def run_test_harness():\n",
        "  #laod dataset \n",
        "  trainX, trainY, testX, testY= load_dataset()\n",
        "  #prepare pixel data\n",
        "  trainX, testX= prep_pixels(trainX, testX)\n",
        "  #evaluate model\n",
        "  scores, histories= evaluate_model(trainX, trainY)\n",
        "  #learning curves\n",
        "  summarize_diagnostic(histories)\n",
        "  #summarize estimated performance\n",
        "  summarize_performance(scores)\n",
        "  "
      ],
      "execution_count": 46,
      "outputs": []
    },
    {
      "cell_type": "code",
      "metadata": {
        "colab": {
          "base_uri": "https://localhost:8080/",
          "height": 726
        },
        "id": "91p_J-NRJ6QI",
        "outputId": "b5c6c95b-e5c4-4a2a-8c03-cbcbde51cf24"
      },
      "source": [
        "#entry point, run the test harness\n",
        "run_test_harness()"
      ],
      "execution_count": 53,
      "outputs": [
        {
          "output_type": "stream",
          "name": "stdout",
          "text": [
            "> 98.417\n",
            "> 98.742\n",
            "> 98.592\n",
            "> 98.967\n",
            "> 98.842\n"
          ]
        },
        {
          "output_type": "stream",
          "name": "stderr",
          "text": [
            "/usr/local/lib/python3.7/dist-packages/ipykernel_launcher.py:5: MatplotlibDeprecationWarning: Adding an axes using the same arguments as a previous axes currently reuses the earlier instance.  In a future version, a new instance will always be created and returned.  Meanwhile, this warning can be suppressed, and the future behavior ensured, by passing a unique label to each axes instance.\n",
            "  \"\"\"\n",
            "/usr/local/lib/python3.7/dist-packages/ipykernel_launcher.py:10: MatplotlibDeprecationWarning: Adding an axes using the same arguments as a previous axes currently reuses the earlier instance.  In a future version, a new instance will always be created and returned.  Meanwhile, this warning can be suppressed, and the future behavior ensured, by passing a unique label to each axes instance.\n",
            "  # Remove the CWD from sys.path while we load stuff.\n"
          ]
        },
        {
          "output_type": "display_data",
          "data": {
            "image/png": "[encoded data removed]",
            "text/plain": [
              "<Figure size 432x288 with 2 Axes>"
            ]
          },
          "metadata": {
            "needs_background": "light"
          }
        },
        {
          "output_type": "stream",
          "name": "stdout",
          "text": [
            "Accuracy: mean=98.712 std=0.192, n=5\n"
          ]
        },
        {
          "output_type": "display_data",
          "data": {
            "image/png": "[encoded data removed]",
            "text/plain": [
              "<Figure size 432x288 with 1 Axes>"
            ]
          },
          "metadata": {
            "needs_background": "light"
          }
        }
      ]
    },
    {
      "cell_type": "code",
      "metadata": {
        "id": "Vh0gn8CxAYHG",
        "colab": {
          "base_uri": "https://localhost:8080/",
          "height": 300
        },
        "outputId": "045ca8fd-3efa-4d0a-dcfa-0c639d88e80c"
      },
      "source": [
        "plt.plot(history.history['accuracy'], label='accuracy')\n",
        "plt.plot(history.history['val_accuracy'], label='val_accuracy')\n",
        "plt.xlabel('Epoch')\n",
        "plt.ylabel('Accuracy')\n",
        "plt.ylim([0.5, 1])\n",
        "plt.legend(loc='lower right')\n",
        "\n",
        "test_loss, test_acc= model.evaluate(test_images, test_labels, verbose=2)"
      ],
      "execution_count": null,
      "outputs": [
        {
          "output_type": "stream",
          "name": "stdout",
          "text": [
            "313/313 - 3s - loss: 0.8696 - accuracy: 0.7176\n"
          ]
        },
        {
          "output_type": "display_data",
          "data": {
            "image/png": "[encoded data removed]",
            "text/plain": [
              "<Figure size 432x288 with 1 Axes>"
            ]
          },
          "metadata": {
            "needs_background": "light"
          }
        }
      ]
    }
  ]
}