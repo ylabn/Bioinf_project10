{
  "nbformat": 4,
  "nbformat_minor": 0,
  "metadata": {
    "colab": {
      "name": "prova_mnist.ipynb",
      "provenance": [],
      "collapsed_sections": [],
      "authorship_tag": "ABX9TyPHLpunEldNnp3KyR2Mzwq8",
      "include_colab_link": true
    },
    "kernelspec": {
      "name": "python3",
      "display_name": "Python 3"
    },
    "language_info": {
      "name": "python"
    }
  },
  "cells": [
    {
      "cell_type": "markdown",
      "metadata": {
        "id": "view-in-github",
        "colab_type": "text"
      },
      "source": [
        "<a href=\"https://colab.research.google.com/github/ylabn/Bioinf_project10/blob/main/prova_mnist.ipynb\" target=\"_parent\"><img src=\"https://colab.research.google.com/assets/colab-badge.svg\" alt=\"Open In Colab\"/></a>"
      ]
    },
    {
      "cell_type": "code",
      "metadata": {
        "id": "zEFftnt4IAPI"
      },
      "source": [
        "import tensorflow as tf\n",
        "from tensorflow.keras.datasets import mnist\n",
        "from tensorflow.keras.layers import Conv2D, MaxPooling2D, Dense, Flatten\n",
        "from tensorflow.keras.models import Sequential\n",
        "import matplotlib.pyplot as plt\n",
        "from sklearn.model_selection import KFold\n",
        "from tensorflow.keras.optimizers import SGD\n",
        "from tensorflow.keras.utils import to_categorical\n",
        "from numpy import std, mean\n",
        "from tensorflow.keras.models import load_model\n",
        "from keras.preprocessing.image import load_img\n",
        "from keras.preprocessing.image import img_to_array\n",
        "from PIL import Image\n",
        "import pandas as pd\n",
        "from google.colab import files\n",
        "from keras.preprocessing import image\n",
        "import io\n",
        "from io import BytesIO\n",
        "import requests\n",
        "import numpy as np\n",
        "from numpy import argmax\n"
      ],
      "execution_count": null,
      "outputs": []
    },
    {
      "cell_type": "code",
      "metadata": {
        "id": "jcg9EPES90iC"
      },
      "source": [
        "#load train and test datset\n",
        "def load_dataset():\n",
        "  #load dataset\n",
        "  (trainX, trainY),(testX, testY)=mnist.load_data() \n",
        "  #reshape dataset to have a single channel \n",
        "  trainX= trainX.reshape((trainX.shape[0], 28, 28, 1))\n",
        "  testX= testX.reshape((testX.shape[0], 28, 28, 1))\n",
        "  #one hot encode target values\n",
        "  trainY= to_categorical(trainY)\n",
        "  testY= to_categorical(testY)\n",
        "  return trainX, trainY, testX, testY\n",
        "\n"
      ],
      "execution_count": null,
      "outputs": []
    },
    {
      "cell_type": "code",
      "metadata": {
        "id": "af3UBVCICrgn"
      },
      "source": [
        "#scale pixel\n",
        "def prep_pixels(train, test):\n",
        "  #convert from integers to floats\n",
        "  train_norm= train.astype('float32')\n",
        "  test_norm=test.astype('float32')\n",
        "  #normalize to range 0-1\n",
        "  train_norm= train_norm/255.0\n",
        "  test_norm=test_norm/255.0\n",
        "  #return normalized images\n",
        "  return train_norm, test_norm"
      ],
      "execution_count": null,
      "outputs": []
    },
    {
      "cell_type": "code",
      "metadata": {
        "id": "Ftm0xvbWou62"
      },
      "source": [
        "#permutation\n",
        "def permut(trainX, testX):\n",
        "  seed = 3\n",
        "  tf.random.set_seed(seed)\n",
        "  np.random.seed(seed)\n",
        "  rng = np.random.RandomState(seed)\n",
        "  perm = rng.permutation(trainX.shape[1])\n",
        "  trainX_perm = trainX[:, perm]\n",
        "  testX_perm = testX[:, perm]\n",
        "\n",
        "  #plt.figure()\n",
        "  #plt.imshow(trainX[0].reshape(8, -1), cmap=\"gray\")\n",
        "  #plt.imshow(trainX_perm[3].reshape(28,28), cmap=\"gray\")\n",
        "  #plt.axis(\"off\")\n",
        "  #plt.title(f\"Permuted sequence of the digit '{trainY[0]}' (reshaped to 98 x 8)\")\n",
        "  #plt.show()\n",
        "  #plt.savefig('perm_try.png')\n",
        "\n",
        "  #plt.figure()\n",
        "  #plt.imshow(trainX[3].reshape(28,28), cmap=\"gray\")\n",
        "  #plt.savefig('not_perm.png')\n",
        "  return trainX_perm, testX_perm\n",
        " \n",
        " "
      ],
      "execution_count": null,
      "outputs": []
    },
    {
      "cell_type": "code",
      "metadata": {
        "id": "oVGubBxAC6TH"
      },
      "source": [
        "#define cnn model:\n",
        "def define_model():\n",
        "  model = Sequential()\n",
        "  model.add(Conv2D(32, (3,3), activation='relu', kernel_initializer= 'he_uniform', input_shape=(28,28,1)))\n",
        "  model.add(MaxPooling2D((2,2)))\n",
        "  model.add(Flatten())\n",
        "  model.add(Dense(100, activation='relu', kernel_initializer='he_uniform'))\n",
        "  model.add(Dense(10, activation='softmax'))\n",
        "  #compile model \n",
        "  opt=SGD(learning_rate=0.01, momentum=0.9)\n",
        "  model.compile(optimizer=opt, loss='categorical_crossentropy', metrics=['accuracy'])\n",
        "  return model"
      ],
      "execution_count": null,
      "outputs": []
    },
    {
      "cell_type": "code",
      "metadata": {
        "id": "Ysse4ZtXEXGU"
      },
      "source": [
        "#evaluate a model using k-fold cross-validation\n",
        "def evaluate_model(dataX, dataY, n_folds=5):\n",
        "  scores, histories= list(), list()\n",
        "  #prepare cross validation\n",
        "  kfold=KFold(n_folds, shuffle=True, random_state=1)\n",
        "  #enumerate splits\n",
        "  for train_ix, test_ix in kfold.split(dataX):\n",
        "    #define model\n",
        "    model=define_model()\n",
        "    #select rows for train and test\n",
        "    trainX, trainY, testX, testY= dataX[train_ix], dataY[train_ix], dataX[test_ix], dataY[test_ix] \n",
        "    #fit model\n",
        "    history= model.fit(trainX, trainY, epochs=10, batch_size=32, validation_data=(testX, testY), verbose=0)\n",
        "    #evaluate model\n",
        "    _, acc= model.evaluate(testX, testY, verbose=0)\n",
        "    print('> %.3f' %(acc * 100.0))\n",
        "    #stores scores\n",
        "    scores.append(acc)\n",
        "    histories.append(history)\n",
        "  return scores, histories "
      ],
      "execution_count": null,
      "outputs": []
    },
    {
      "cell_type": "code",
      "metadata": {
        "id": "2ly_BXd7GHwN"
      },
      "source": [
        "#plot diagnostic learning curves \n",
        "def summarize_diagnostic(histories):\n",
        "  for i in range(len(histories)):\n",
        "    #plot loss\n",
        "    plt.subplot(2,1,1)\n",
        "    plt.title('Cross Entropy Loss')\n",
        "    plt.plot(histories[i].history['loss'], color='blue', label='train')\n",
        "    plt.plot(histories[i].history['val_loss'], color='orange', label='test')\n",
        "    #plot accuracy\n",
        "    plt.subplot(2,1,2)\n",
        "    plt.title('Classification Accuracy')\n",
        "    plt.plot(histories[i].history['accuracy'], color='blue', label='train')\n",
        "    plt.plot(histories[i].history['val_accuracy'], color='orange', label='test')\n",
        "  plt.show()  "
      ],
      "execution_count": null,
      "outputs": []
    },
    {
      "cell_type": "code",
      "metadata": {
        "id": "WwDEp1qkH4KY"
      },
      "source": [
        "#summarize model performance\n",
        "def summarize_performance(scores):\n",
        "  #print summary\n",
        "  print('Accuracy: mean=%.3f std=%.3f, n=%d' % (mean(scores)*100, std(scores)*100, len(scores)))\n",
        "  #box and whisker plots of results\n",
        "  plt.boxplot(scores)\n",
        "  plt.show()\n",
        "  "
      ],
      "execution_count": null,
      "outputs": []
    },
    {
      "cell_type": "code",
      "metadata": {
        "id": "T2BgLHLzS0Cu"
      },
      "source": [
        "#make a prediction for a new image\n",
        "\n",
        "#load and prepare image\n",
        "def load_image(filename):\n",
        "  #load the image\n",
        "  img=load_img(filename, grayscale=True, target_size=(28,28))\n",
        "  #convert to array\n",
        "  img=img_to_array(img)\n",
        "  #reshape into a single sample with 1 channel\n",
        "  img=img.reshape(1,28,28,1)\n",
        "  #prepare pixel data\n",
        "  img=img.astype('float32')\n",
        "  img=img/255.0\n",
        "  return img\n",
        "  "
      ],
      "execution_count": null,
      "outputs": []
    },
    {
      "cell_type": "code",
      "metadata": {
        "id": "tL7cxqnwIrXH"
      },
      "source": [
        "#run the test harness for evaluating a model\n",
        "def run_test_harness():\n",
        "  #laod dataset \n",
        "  trainX, trainY, testX, testY= load_dataset()\n",
        "  #prepare pixel data\n",
        "  trainX, testX= prep_pixels(trainX, testX)\n",
        "  trainX,testX= permut(trainX, testX)\n",
        "\n",
        "  #load model\n",
        "  #model= load_model('final_model.h5')\n",
        "  #evaluate model on test dataset\n",
        "  #_, acc= model.evaluate(testX, testY, verbose=0)\n",
        "  #print('>%.3f' % (acc*100.0))\n",
        "\n",
        "  #define model\n",
        "  model=define_model()\n",
        "  #fit model \n",
        "  model.fit(trainX, trainY, epochs=10, batch_size=32, verbose=0)\n",
        "  #save model\n",
        "  model.save('final_model.h5')\n",
        "  \n",
        "\n",
        "\n",
        "  #evaluate model\n",
        "  #scores, histories= evaluate_model(trainX, trainY)\n",
        "  #learning curves\n",
        "  #summarize_diagnostic(histories)\n",
        "  #summarize estimated performance\n",
        "  #summarize_performance(scores)\n",
        "  \n",
        "\n",
        "  #plot images\n",
        "  num_row = 2\n",
        "  num_col = 5# plot images\n",
        "  fig, axes = plt.subplots(num_row, num_col, figsize=(1.5*num_col,2*num_row))\n",
        "  for i in range(10):\n",
        "     ax = axes[i//num_col, i%num_col]\n",
        "     #trainX[i].squeeze()\n",
        "     img=trainX[i+3]\n",
        "     img=img.reshape(28,28)\n",
        "     #prepare pixel data\n",
        "     img=img.astype('float32')\n",
        "     img=img/255.0\n",
        "     ax.imshow(img, cmap='gray')\n",
        "     #ax.set_title('Label: {}'.format(trainY[i]))\n",
        "  plt.tight_layout()\n",
        "  plt.show()\n",
        "  return trainX, testX"
      ],
      "execution_count": null,
      "outputs": []
    },
    {
      "cell_type": "code",
      "metadata": {
        "id": "91p_J-NRJ6QI",
        "colab": {
          "base_uri": "https://localhost:8080/",
          "height": 259
        },
        "outputId": "61f00fe5-bbb7-4e6b-acc9-5946a7fd8885"
      },
      "source": [
        "#entry point, run the test harness\n",
        "trainX, testX=run_test_harness()\n"
      ],
      "execution_count": null,
      "outputs": [
        {
          "output_type": "display_data",
          "data": {
            "image/png": "[encoded data removed]",
            "text/plain": [
              "<Figure size 540x288 with 10 Axes>"
            ]
          },
          "metadata": {
            "needs_background": "light"
          }
        }
      ]
    },
    {
      "cell_type": "code",
      "metadata": {
        "colab": {
          "base_uri": "https://localhost:8080/",
          "height": 496
        },
        "id": "eEWxZLfCIe7d",
        "outputId": "bd6a77a0-f476-4b42-9698-7fbb04cb175d"
      },
      "source": [
        "permut(trainX, testX)"
      ],
      "execution_count": null,
      "outputs": [
        {
          "output_type": "display_data",
          "data": {
            "image/png": "[encoded data removed]",
            "text/plain": [
              "<Figure size 432x288 with 1 Axes>"
            ]
          },
          "metadata": {
            "needs_background": "light"
          }
        },
        {
          "output_type": "display_data",
          "data": {
            "image/png": "[encoded data removed]",
            "text/plain": [
              "<Figure size 432x288 with 1 Axes>"
            ]
          },
          "metadata": {
            "needs_background": "light"
          }
        }
      ]
    },
    {
      "cell_type": "code",
      "metadata": {
        "id": "lTP3HsIcTu47"
      },
      "source": [
        "#load an image and predict the class\n",
        "def run_example(trainX, testX):\n",
        "  #load the image\n",
        "  #img=load_image('sample_image.png')\n",
        "  #img=load_image('perm_try.png')\n",
        "  trainX, testX= prep_pixels(trainX, testX)\n",
        "  img=trainX[0]\n",
        "  #load model\n",
        "  model=load_model('final_model.h5')\n",
        "  #predict the class\n",
        "  predict_value=model.predict(img)\n",
        "  digit=argmax(predict_value)\n",
        "  print(digit)"
      ],
      "execution_count": null,
      "outputs": []
    },
    {
      "cell_type": "code",
      "metadata": {
        "colab": {
          "base_uri": "https://localhost:8080/",
          "height": 747
        },
        "id": "4lgki9tbULmH",
        "outputId": "8e5e7098-d545-4216-8076-a9cccf55b0e1"
      },
      "source": [
        "#entry point, run the example\n",
        "\n",
        "run_example(trainX, testX)"
      ],
      "execution_count": null,
      "outputs": [
        {
          "output_type": "stream",
          "name": "stdout",
          "text": [
            "WARNING:tensorflow:Model was constructed with shape (None, 28, 28, 1) for input KerasTensor(type_spec=TensorSpec(shape=(None, 28, 28, 1), dtype=tf.float32, name='conv2d_12_input'), name='conv2d_12_input', description=\"created by layer 'conv2d_12_input'\"), but it was called on an input with incompatible shape (None, 28, 1, 1).\n"
          ]
        },
        {
          "output_type": "error",
          "ename": "ValueError",
          "evalue": "ignored",
          "traceback": [
            "\u001b[0;31m---------------------------------------------------------------------------\u001b[0m",
            "\u001b[0;31mValueError\u001b[0m                                Traceback (most recent call last)",
            "\u001b[0;32m<ipython-input-37-fea74ed4cb3b>\u001b[0m in \u001b[0;36m<module>\u001b[0;34m()\u001b[0m\n\u001b[1;32m      1\u001b[0m \u001b[0;31m#entry point, run the example\u001b[0m\u001b[0;34m\u001b[0m\u001b[0;34m\u001b[0m\u001b[0;34m\u001b[0m\u001b[0m\n\u001b[1;32m      2\u001b[0m \u001b[0;34m\u001b[0m\u001b[0m\n\u001b[0;32m----> 3\u001b[0;31m \u001b[0mrun_example\u001b[0m\u001b[0;34m(\u001b[0m\u001b[0mtrainX\u001b[0m\u001b[0;34m,\u001b[0m \u001b[0mtestX\u001b[0m\u001b[0;34m)\u001b[0m\u001b[0;34m\u001b[0m\u001b[0;34m\u001b[0m\u001b[0m\n\u001b[0m",
            "\u001b[0;32m<ipython-input-36-f6c6b3c0021c>\u001b[0m in \u001b[0;36mrun_example\u001b[0;34m(trainX, testX)\u001b[0m\n\u001b[1;32m      9\u001b[0m   \u001b[0mmodel\u001b[0m\u001b[0;34m=\u001b[0m\u001b[0mload_model\u001b[0m\u001b[0;34m(\u001b[0m\u001b[0;34m'final_model.h5'\u001b[0m\u001b[0;34m)\u001b[0m\u001b[0;34m\u001b[0m\u001b[0;34m\u001b[0m\u001b[0m\n\u001b[1;32m     10\u001b[0m   \u001b[0;31m#predict the class\u001b[0m\u001b[0;34m\u001b[0m\u001b[0;34m\u001b[0m\u001b[0;34m\u001b[0m\u001b[0m\n\u001b[0;32m---> 11\u001b[0;31m   \u001b[0mpredict_value\u001b[0m\u001b[0;34m=\u001b[0m\u001b[0mmodel\u001b[0m\u001b[0;34m.\u001b[0m\u001b[0mpredict\u001b[0m\u001b[0;34m(\u001b[0m\u001b[0mimg\u001b[0m\u001b[0;34m)\u001b[0m\u001b[0;34m\u001b[0m\u001b[0;34m\u001b[0m\u001b[0m\n\u001b[0m\u001b[1;32m     12\u001b[0m   \u001b[0mdigit\u001b[0m\u001b[0;34m=\u001b[0m\u001b[0margmax\u001b[0m\u001b[0;34m(\u001b[0m\u001b[0mpredict_value\u001b[0m\u001b[0;34m)\u001b[0m\u001b[0;34m\u001b[0m\u001b[0;34m\u001b[0m\u001b[0m\n\u001b[1;32m     13\u001b[0m   \u001b[0mprint\u001b[0m\u001b[0;34m(\u001b[0m\u001b[0mdigit\u001b[0m\u001b[0;34m)\u001b[0m\u001b[0;34m\u001b[0m\u001b[0;34m\u001b[0m\u001b[0m\n",
            "\u001b[0;32m/usr/local/lib/python3.7/dist-packages/keras/utils/traceback_utils.py\u001b[0m in \u001b[0;36merror_handler\u001b[0;34m(*args, **kwargs)\u001b[0m\n\u001b[1;32m     65\u001b[0m     \u001b[0;32mexcept\u001b[0m \u001b[0mException\u001b[0m \u001b[0;32mas\u001b[0m \u001b[0me\u001b[0m\u001b[0;34m:\u001b[0m  \u001b[0;31m# pylint: disable=broad-except\u001b[0m\u001b[0;34m\u001b[0m\u001b[0;34m\u001b[0m\u001b[0m\n\u001b[1;32m     66\u001b[0m       \u001b[0mfiltered_tb\u001b[0m \u001b[0;34m=\u001b[0m \u001b[0m_process_traceback_frames\u001b[0m\u001b[0;34m(\u001b[0m\u001b[0me\u001b[0m\u001b[0;34m.\u001b[0m\u001b[0m__traceback__\u001b[0m\u001b[0;34m)\u001b[0m\u001b[0;34m\u001b[0m\u001b[0;34m\u001b[0m\u001b[0m\n\u001b[0;32m---> 67\u001b[0;31m       \u001b[0;32mraise\u001b[0m \u001b[0me\u001b[0m\u001b[0;34m.\u001b[0m\u001b[0mwith_traceback\u001b[0m\u001b[0;34m(\u001b[0m\u001b[0mfiltered_tb\u001b[0m\u001b[0;34m)\u001b[0m \u001b[0;32mfrom\u001b[0m \u001b[0;32mNone\u001b[0m\u001b[0;34m\u001b[0m\u001b[0;34m\u001b[0m\u001b[0m\n\u001b[0m\u001b[1;32m     68\u001b[0m     \u001b[0;32mfinally\u001b[0m\u001b[0;34m:\u001b[0m\u001b[0;34m\u001b[0m\u001b[0;34m\u001b[0m\u001b[0m\n\u001b[1;32m     69\u001b[0m       \u001b[0;32mdel\u001b[0m \u001b[0mfiltered_tb\u001b[0m\u001b[0;34m\u001b[0m\u001b[0;34m\u001b[0m\u001b[0m\n",
            "\u001b[0;32m/usr/local/lib/python3.7/dist-packages/tensorflow/python/framework/func_graph.py\u001b[0m in \u001b[0;36mautograph_handler\u001b[0;34m(*args, **kwargs)\u001b[0m\n\u001b[1;32m   1127\u001b[0m           \u001b[0;32mexcept\u001b[0m \u001b[0mException\u001b[0m \u001b[0;32mas\u001b[0m \u001b[0me\u001b[0m\u001b[0;34m:\u001b[0m  \u001b[0;31m# pylint:disable=broad-except\u001b[0m\u001b[0;34m\u001b[0m\u001b[0;34m\u001b[0m\u001b[0m\n\u001b[1;32m   1128\u001b[0m             \u001b[0;32mif\u001b[0m \u001b[0mhasattr\u001b[0m\u001b[0;34m(\u001b[0m\u001b[0me\u001b[0m\u001b[0;34m,\u001b[0m \u001b[0;34m\"ag_error_metadata\"\u001b[0m\u001b[0;34m)\u001b[0m\u001b[0;34m:\u001b[0m\u001b[0;34m\u001b[0m\u001b[0;34m\u001b[0m\u001b[0m\n\u001b[0;32m-> 1129\u001b[0;31m               \u001b[0;32mraise\u001b[0m \u001b[0me\u001b[0m\u001b[0;34m.\u001b[0m\u001b[0mag_error_metadata\u001b[0m\u001b[0;34m.\u001b[0m\u001b[0mto_exception\u001b[0m\u001b[0;34m(\u001b[0m\u001b[0me\u001b[0m\u001b[0;34m)\u001b[0m\u001b[0;34m\u001b[0m\u001b[0;34m\u001b[0m\u001b[0m\n\u001b[0m\u001b[1;32m   1130\u001b[0m             \u001b[0;32melse\u001b[0m\u001b[0;34m:\u001b[0m\u001b[0;34m\u001b[0m\u001b[0;34m\u001b[0m\u001b[0m\n\u001b[1;32m   1131\u001b[0m               \u001b[0;32mraise\u001b[0m\u001b[0;34m\u001b[0m\u001b[0;34m\u001b[0m\u001b[0m\n",
            "\u001b[0;31mValueError\u001b[0m: in user code:\n\n    File \"/usr/local/lib/python3.7/dist-packages/keras/engine/training.py\", line 1621, in predict_function  *\n        return step_function(self, iterator)\n    File \"/usr/local/lib/python3.7/dist-packages/keras/engine/training.py\", line 1611, in step_function  **\n        outputs = model.distribute_strategy.run(run_step, args=(data,))\n    File \"/usr/local/lib/python3.7/dist-packages/keras/engine/training.py\", line 1604, in run_step  **\n        outputs = model.predict_step(data)\n    File \"/usr/local/lib/python3.7/dist-packages/keras/engine/training.py\", line 1572, in predict_step\n        return self(x, training=False)\n    File \"/usr/local/lib/python3.7/dist-packages/keras/utils/traceback_utils.py\", line 67, in error_handler\n        raise e.with_traceback(filtered_tb) from None\n\n    ValueError: Exception encountered when calling layer \"conv2d_12\" (type Conv2D).\n    \n    Negative dimension size caused by subtracting 3 from 1 for '{{node sequential_12/conv2d_12/Conv2D}} = Conv2D[T=DT_FLOAT, data_format=\"NHWC\", dilations=[1, 1, 1, 1], explicit_paddings=[], padding=\"VALID\", strides=[1, 1, 1, 1], use_cudnn_on_gpu=true](sequential_12/ExpandDims, sequential_12/conv2d_12/Conv2D/ReadVariableOp)' with input shapes: [?,28,1,1], [3,3,1,32].\n    \n    Call arguments received:\n      • inputs=tf.Tensor(shape=(None, 28, 1, 1), dtype=float32)\n"
          ]
        }
      ]
    },
    {
      "cell_type": "code",
      "metadata": {
        "id": "rAK1x6RobAgk",
        "colab": {
          "base_uri": "https://localhost:8080/"
        },
        "outputId": "471671f4-577f-4451-f446-0ef756d93a75"
      },
      "source": [
        "trainX[0].shape\n"
      ],
      "execution_count": null,
      "outputs": [
        {
          "output_type": "execute_result",
          "data": {
            "text/plain": [
              "(28, 28, 1)"
            ]
          },
          "metadata": {},
          "execution_count": 33
        }
      ]
    },
    {
      "cell_type": "code",
      "metadata": {
        "id": "XTuYIfkOlTsB"
      },
      "source": [
        "def run_example_perm():\n",
        "  #load the image \n",
        "  img = load_image('perm_try.png')\n",
        "  #load model\n",
        "  model=load_model('final_model.h5')\n",
        "  #predict the class\n",
        "  predict_value= model.predict(img)\n",
        "  digit=argmax(predict_value)\n",
        "  print(digit)"
      ],
      "execution_count": null,
      "outputs": []
    },
    {
      "cell_type": "code",
      "metadata": {
        "colab": {
          "base_uri": "https://localhost:8080/"
        },
        "id": "XIDqDoXOljpt",
        "outputId": "6f2a2661-51a8-40a9-f2d5-386ccbd48d67"
      },
      "source": [
        "run_example_perm()"
      ],
      "execution_count": null,
      "outputs": [
        {
          "output_type": "stream",
          "name": "stdout",
          "text": [
            "3\n"
          ]
        },
        {
          "output_type": "stream",
          "name": "stderr",
          "text": [
            "/usr/local/lib/python3.7/dist-packages/keras_preprocessing/image/utils.py:107: UserWarning: grayscale is deprecated. Please use color_mode = \"grayscale\"\n",
            "  warnings.warn('grayscale is deprecated. Please use '\n"
          ]
        }
      ]
    }
  ]
}